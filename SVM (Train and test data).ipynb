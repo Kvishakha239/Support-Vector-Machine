{
 "cells": [
  {
   "cell_type": "markdown",
   "id": "229fb039",
   "metadata": {},
   "source": [
    "#    Support Vector Machine\n",
    "\n",
    "Support Vector Machine (SVM) is a supervised machine learning algorithm that can be used for both classification or regression challenges.\n",
    "Support Vectors are simply the coordinates of individual observation.\n",
    "The idea of SVM is simple: \n",
    "The algorithm creates a line or a hyperplane which separates the data into classes.\n",
    "SVM algorithms use a set of mathematical functions that are defined as the kernel.\n",
    "The function of kernel is to take data as input and transform it into the required form.\n",
    "These functions can be different types.\n",
    "For example linear, nonlinear, polynomial, radial basis function (RBF), and sigmoid.\n",
    "\n",
    "Pros: It works really well with a clear margin of separation. It is effective in high dimensional spaces.\n",
    "\n",
    "Cons: It doesn't perform well when we have large data set because the required training time is higher."
   ]
  },
  {
   "cell_type": "code",
   "execution_count": 1,
   "id": "b8258e5e",
   "metadata": {},
   "outputs": [],
   "source": [
    "import pandas as pd \n",
    "import numpy as np \n",
    "import seaborn as sns"
   ]
  },
  {
   "cell_type": "code",
   "execution_count": 2,
   "id": "f6a3bb79",
   "metadata": {},
   "outputs": [
    {
     "data": {
      "text/html": [
       "<div>\n",
       "<style scoped>\n",
       "    .dataframe tbody tr th:only-of-type {\n",
       "        vertical-align: middle;\n",
       "    }\n",
       "\n",
       "    .dataframe tbody tr th {\n",
       "        vertical-align: top;\n",
       "    }\n",
       "\n",
       "    .dataframe thead th {\n",
       "        text-align: right;\n",
       "    }\n",
       "</style>\n",
       "<table border=\"1\" class=\"dataframe\">\n",
       "  <thead>\n",
       "    <tr style=\"text-align: right;\">\n",
       "      <th></th>\n",
       "      <th>age</th>\n",
       "      <th>workclass</th>\n",
       "      <th>education</th>\n",
       "      <th>educationno</th>\n",
       "      <th>maritalstatus</th>\n",
       "      <th>occupation</th>\n",
       "      <th>relationship</th>\n",
       "      <th>race</th>\n",
       "      <th>sex</th>\n",
       "      <th>capitalgain</th>\n",
       "      <th>capitalloss</th>\n",
       "      <th>hoursperweek</th>\n",
       "      <th>native</th>\n",
       "      <th>Salary</th>\n",
       "    </tr>\n",
       "  </thead>\n",
       "  <tbody>\n",
       "    <tr>\n",
       "      <th>0</th>\n",
       "      <td>39</td>\n",
       "      <td>State-gov</td>\n",
       "      <td>Bachelors</td>\n",
       "      <td>13</td>\n",
       "      <td>Never-married</td>\n",
       "      <td>Adm-clerical</td>\n",
       "      <td>Not-in-family</td>\n",
       "      <td>White</td>\n",
       "      <td>Male</td>\n",
       "      <td>2174</td>\n",
       "      <td>0</td>\n",
       "      <td>40</td>\n",
       "      <td>United-States</td>\n",
       "      <td>&lt;=50K</td>\n",
       "    </tr>\n",
       "    <tr>\n",
       "      <th>1</th>\n",
       "      <td>50</td>\n",
       "      <td>Self-emp-not-inc</td>\n",
       "      <td>Bachelors</td>\n",
       "      <td>13</td>\n",
       "      <td>Married-civ-spouse</td>\n",
       "      <td>Exec-managerial</td>\n",
       "      <td>Husband</td>\n",
       "      <td>White</td>\n",
       "      <td>Male</td>\n",
       "      <td>0</td>\n",
       "      <td>0</td>\n",
       "      <td>13</td>\n",
       "      <td>United-States</td>\n",
       "      <td>&lt;=50K</td>\n",
       "    </tr>\n",
       "  </tbody>\n",
       "</table>\n",
       "</div>"
      ],
      "text/plain": [
       "   age          workclass   education  educationno        maritalstatus  \\\n",
       "0   39          State-gov   Bachelors           13        Never-married   \n",
       "1   50   Self-emp-not-inc   Bachelors           13   Married-civ-spouse   \n",
       "\n",
       "         occupation    relationship    race    sex  capitalgain  capitalloss  \\\n",
       "0      Adm-clerical   Not-in-family   White   Male         2174            0   \n",
       "1   Exec-managerial         Husband   White   Male            0            0   \n",
       "\n",
       "   hoursperweek          native  Salary  \n",
       "0            40   United-States   <=50K  \n",
       "1            13   United-States   <=50K  "
      ]
     },
     "execution_count": 2,
     "metadata": {},
     "output_type": "execute_result"
    }
   ],
   "source": [
    "Train = pd.read_csv('SalaryData_Train(1).csv')\n",
    "Train.head(2)"
   ]
  },
  {
   "cell_type": "code",
   "execution_count": 3,
   "id": "b1581128",
   "metadata": {},
   "outputs": [
    {
     "data": {
      "text/html": [
       "<div>\n",
       "<style scoped>\n",
       "    .dataframe tbody tr th:only-of-type {\n",
       "        vertical-align: middle;\n",
       "    }\n",
       "\n",
       "    .dataframe tbody tr th {\n",
       "        vertical-align: top;\n",
       "    }\n",
       "\n",
       "    .dataframe thead th {\n",
       "        text-align: right;\n",
       "    }\n",
       "</style>\n",
       "<table border=\"1\" class=\"dataframe\">\n",
       "  <thead>\n",
       "    <tr style=\"text-align: right;\">\n",
       "      <th></th>\n",
       "      <th>age</th>\n",
       "      <th>workclass</th>\n",
       "      <th>education</th>\n",
       "      <th>educationno</th>\n",
       "      <th>maritalstatus</th>\n",
       "      <th>occupation</th>\n",
       "      <th>relationship</th>\n",
       "      <th>race</th>\n",
       "      <th>sex</th>\n",
       "      <th>capitalgain</th>\n",
       "      <th>capitalloss</th>\n",
       "      <th>hoursperweek</th>\n",
       "      <th>native</th>\n",
       "      <th>Salary</th>\n",
       "    </tr>\n",
       "  </thead>\n",
       "  <tbody>\n",
       "    <tr>\n",
       "      <th>0</th>\n",
       "      <td>25</td>\n",
       "      <td>Private</td>\n",
       "      <td>11th</td>\n",
       "      <td>7</td>\n",
       "      <td>Never-married</td>\n",
       "      <td>Machine-op-inspct</td>\n",
       "      <td>Own-child</td>\n",
       "      <td>Black</td>\n",
       "      <td>Male</td>\n",
       "      <td>0</td>\n",
       "      <td>0</td>\n",
       "      <td>40</td>\n",
       "      <td>United-States</td>\n",
       "      <td>&lt;=50K</td>\n",
       "    </tr>\n",
       "    <tr>\n",
       "      <th>1</th>\n",
       "      <td>38</td>\n",
       "      <td>Private</td>\n",
       "      <td>HS-grad</td>\n",
       "      <td>9</td>\n",
       "      <td>Married-civ-spouse</td>\n",
       "      <td>Farming-fishing</td>\n",
       "      <td>Husband</td>\n",
       "      <td>White</td>\n",
       "      <td>Male</td>\n",
       "      <td>0</td>\n",
       "      <td>0</td>\n",
       "      <td>50</td>\n",
       "      <td>United-States</td>\n",
       "      <td>&lt;=50K</td>\n",
       "    </tr>\n",
       "  </tbody>\n",
       "</table>\n",
       "</div>"
      ],
      "text/plain": [
       "   age workclass education  educationno        maritalstatus  \\\n",
       "0   25   Private      11th            7        Never-married   \n",
       "1   38   Private   HS-grad            9   Married-civ-spouse   \n",
       "\n",
       "           occupation relationship    race    sex  capitalgain  capitalloss  \\\n",
       "0   Machine-op-inspct    Own-child   Black   Male            0            0   \n",
       "1     Farming-fishing      Husband   White   Male            0            0   \n",
       "\n",
       "   hoursperweek          native  Salary  \n",
       "0            40   United-States   <=50K  \n",
       "1            50   United-States   <=50K  "
      ]
     },
     "execution_count": 3,
     "metadata": {},
     "output_type": "execute_result"
    }
   ],
   "source": [
    "Test = pd.read_csv('SalaryData_Test(1).csv')\n",
    "Test.head(2)"
   ]
  },
  {
   "cell_type": "code",
   "execution_count": 4,
   "id": "b373c7d0",
   "metadata": {},
   "outputs": [],
   "source": [
    "string_columns = [\"workclass\",\"education\",\"maritalstatus\",\"occupation\",\"relationship\",\"race\",\"sex\",\"native\"]"
   ]
  },
  {
   "cell_type": "code",
   "execution_count": 5,
   "id": "54147ccf",
   "metadata": {},
   "outputs": [],
   "source": [
    "#Preprocessing the data. As, there are categorical variables\n",
    "from sklearn.preprocessing import LabelEncoder\n",
    "number = LabelEncoder()\n",
    "for i in string_columns:\n",
    "        Train[i]= number.fit_transform(Train[i])\n",
    "        Test[i]=number.fit_transform(Test[i])"
   ]
  },
  {
   "cell_type": "code",
   "execution_count": 6,
   "id": "b4caeb00",
   "metadata": {},
   "outputs": [
    {
     "data": {
      "text/plain": [
       "14"
      ]
     },
     "execution_count": 6,
     "metadata": {},
     "output_type": "execute_result"
    }
   ],
   "source": [
    "#Capturing the column names which can help in futher process\n",
    "colnames = Train.columns\n",
    "colnames\n",
    "\n",
    "len(colnames)"
   ]
  },
  {
   "cell_type": "code",
   "execution_count": 7,
   "id": "65b8eddb",
   "metadata": {},
   "outputs": [],
   "source": [
    "x_train = Train[colnames[0:13]]\n",
    "y_train = Train[colnames[13]]\n",
    "x_test = Test[colnames[0:13]]\n",
    "y_test = Test[colnames[13]]"
   ]
  },
  {
   "cell_type": "code",
   "execution_count": 8,
   "id": "eb1f0457",
   "metadata": {},
   "outputs": [],
   "source": [
    "#Normalmization\n",
    "def norm_func(i):\n",
    "    x = (i-i.min())/(i.max()-i.min())\n",
    "    return (x)\n",
    "x_train = norm_func(x_train)\n",
    "x_test =  norm_func(x_test)"
   ]
  },
  {
   "cell_type": "code",
   "execution_count": 9,
   "id": "f74c3f2e",
   "metadata": {},
   "outputs": [],
   "source": [
    "from sklearn.svm import SVC"
   ]
  },
  {
   "cell_type": "code",
   "execution_count": 10,
   "id": "281d97ee",
   "metadata": {},
   "outputs": [
    {
     "data": {
      "text/plain": [
       "SVC(kernel='linear')"
      ]
     },
     "execution_count": 10,
     "metadata": {},
     "output_type": "execute_result"
    }
   ],
   "source": [
    "model_linear = SVC(kernel = \"linear\")\n",
    "model_linear.fit(x_train,y_train)"
   ]
  },
  {
   "cell_type": "code",
   "execution_count": 11,
   "id": "f6241292",
   "metadata": {},
   "outputs": [],
   "source": [
    "pred_test_linear = model_linear.predict(x_test)"
   ]
  },
  {
   "cell_type": "code",
   "execution_count": 12,
   "id": "a63426e9",
   "metadata": {},
   "outputs": [
    {
     "data": {
      "text/plain": [
       "0.8098273572377158"
      ]
     },
     "execution_count": 12,
     "metadata": {},
     "output_type": "execute_result"
    }
   ],
   "source": [
    "np.mean(pred_test_linear==y_test)"
   ]
  },
  {
   "cell_type": "code",
   "execution_count": 13,
   "id": "b3b085fa",
   "metadata": {},
   "outputs": [],
   "source": [
    "#Accuracy = 81%"
   ]
  },
  {
   "cell_type": "code",
   "execution_count": 14,
   "id": "376478f5",
   "metadata": {},
   "outputs": [],
   "source": [
    "#polynomial kernel\n",
    "model_poly = SVC(kernel = \"poly\")\n",
    "model_poly.fit(x_train,y_train)\n",
    "pred_test_poly = model_poly.predict(x_test)"
   ]
  },
  {
   "cell_type": "code",
   "execution_count": 15,
   "id": "1d554c53",
   "metadata": {},
   "outputs": [
    {
     "data": {
      "text/plain": [
       "0.8435590969455511"
      ]
     },
     "execution_count": 15,
     "metadata": {},
     "output_type": "execute_result"
    }
   ],
   "source": [
    "np.mean(pred_test_poly==y_test)"
   ]
  },
  {
   "cell_type": "code",
   "execution_count": 16,
   "id": "d5c5b0b2",
   "metadata": {},
   "outputs": [],
   "source": [
    "#Accuracy = 84%"
   ]
  },
  {
   "cell_type": "code",
   "execution_count": 17,
   "id": "e902cc23",
   "metadata": {},
   "outputs": [],
   "source": [
    "#radial basis function kernel\n",
    "\n",
    "model_rbf = SVC(kernel = \"rbf\")\n",
    "model_rbf.fit(x_train,y_train)\n",
    "pred_test_rbf = model_rbf.predict(x_test)"
   ]
  },
  {
   "cell_type": "code",
   "execution_count": 18,
   "id": "929372af",
   "metadata": {},
   "outputs": [
    {
     "data": {
      "text/plain": [
       "0.8432934926958832"
      ]
     },
     "execution_count": 18,
     "metadata": {},
     "output_type": "execute_result"
    }
   ],
   "source": [
    "np.mean(pred_test_rbf==y_test) "
   ]
  },
  {
   "cell_type": "code",
   "execution_count": 21,
   "id": "2680d696",
   "metadata": {},
   "outputs": [],
   "source": [
    "#Accuracy = 84%"
   ]
  },
  {
   "cell_type": "code",
   "execution_count": 19,
   "id": "d52a9a99",
   "metadata": {},
   "outputs": [],
   "source": [
    "#sigmoid kernel\n",
    "model_sig = SVC(kernel = \"sigmoid\")\n",
    "model_sig.fit(x_train,y_train)\n",
    "pred_test_sig = model_rbf.predict(x_test)"
   ]
  },
  {
   "cell_type": "code",
   "execution_count": 20,
   "id": "2acf4d11",
   "metadata": {},
   "outputs": [
    {
     "data": {
      "text/plain": [
       "0.8432934926958832"
      ]
     },
     "execution_count": 20,
     "metadata": {},
     "output_type": "execute_result"
    }
   ],
   "source": [
    "np.mean(pred_test_sig==y_test) "
   ]
  },
  {
   "cell_type": "code",
   "execution_count": null,
   "id": "427cce1d",
   "metadata": {},
   "outputs": [],
   "source": [
    "#Accuracy = 84%"
   ]
  }
 ],
 "metadata": {
  "kernelspec": {
   "display_name": "Python 3",
   "language": "python",
   "name": "python3"
  },
  "language_info": {
   "codemirror_mode": {
    "name": "ipython",
    "version": 3
   },
   "file_extension": ".py",
   "mimetype": "text/x-python",
   "name": "python",
   "nbconvert_exporter": "python",
   "pygments_lexer": "ipython3",
   "version": "3.8.8"
  }
 },
 "nbformat": 4,
 "nbformat_minor": 5
}
